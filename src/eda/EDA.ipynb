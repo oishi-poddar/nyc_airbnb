{
 "cells": [
  {
   "cell_type": "markdown",
   "id": "91ecd33b",
   "metadata": {},
   "source": [
    "Reading sample.csv from W&B"
   ]
  },
  {
   "cell_type": "code",
   "execution_count": 2,
   "id": "553b3c39",
   "metadata": {},
   "outputs": [
    {
     "name": "stderr",
     "output_type": "stream",
     "text": [
      "\u001b[34m\u001b[1mwandb\u001b[0m: Currently logged in as: \u001b[33moishipo\u001b[0m (use `wandb login --relogin` to force relogin)\n"
     ]
    },
    {
     "data": {
      "text/html": [
       "\n",
       "                Tracking run with wandb version 0.10.31<br/>\n",
       "                Syncing run <strong style=\"color:#cdcd00\">dandy-blaze-10</strong> to <a href=\"https://wandb.ai\" target=\"_blank\">Weights & Biases</a> <a href=\"https://docs.wandb.com/integrations/jupyter.html\" target=\"_blank\">(Documentation)</a>.<br/>\n",
       "                Project page: <a href=\"https://wandb.ai/oishipo/nyc_airbnb\" target=\"_blank\">https://wandb.ai/oishipo/nyc_airbnb</a><br/>\n",
       "                Run page: <a href=\"https://wandb.ai/oishipo/nyc_airbnb/runs/8mh5pzhp\" target=\"_blank\">https://wandb.ai/oishipo/nyc_airbnb/runs/8mh5pzhp</a><br/>\n",
       "                Run data is saved locally in <code>/Users/apple/PycharmProjects/nyc_airbnb/src/eda/wandb/run-20210606_223202-8mh5pzhp</code><br/><br/>\n",
       "            "
      ],
      "text/plain": [
       "<IPython.core.display.HTML object>"
      ]
     },
     "metadata": {},
     "output_type": "display_data"
    }
   ],
   "source": [
    "import wandb\n",
    "import pandas as pd\n",
    "\n",
    "run = wandb.init(project=\"nyc_airbnb\", group=\"eda\", save_code=True)\n",
    "local_path = wandb.use_artifact(\"sample.csv:latest\").file()\n",
    "df = pd.read_csv(local_path)"
   ]
  },
  {
   "cell_type": "markdown",
   "id": "95f95762",
   "metadata": {},
   "source": [
    "Create profile"
   ]
  },
  {
   "cell_type": "code",
   "execution_count": 8,
   "id": "2bf7fa72",
   "metadata": {},
   "outputs": [
    {
     "data": {
      "application/vnd.jupyter.widget-view+json": {
       "model_id": "5de904132bdc49ce88070b18d2301669",
       "version_major": 2,
       "version_minor": 0
      },
      "text/plain": [
       "Summarize dataset:   0%|          | 0/30 [00:00<?, ?it/s]"
      ]
     },
     "metadata": {},
     "output_type": "display_data"
    },
    {
     "data": {
      "application/vnd.jupyter.widget-view+json": {
       "model_id": "2a9423b3c0fc4669b24935d616c2cc8d",
       "version_major": 2,
       "version_minor": 0
      },
      "text/plain": [
       "Generate report structure:   0%|          | 0/1 [00:00<?, ?it/s]"
      ]
     },
     "metadata": {},
     "output_type": "display_data"
    },
    {
     "data": {
      "application/vnd.jupyter.widget-view+json": {
       "model_id": "",
       "version_major": 2,
       "version_minor": 0
      },
      "text/plain": [
       "Render widgets:   0%|          | 0/1 [00:00<?, ?it/s]"
      ]
     },
     "metadata": {},
     "output_type": "display_data"
    },
    {
     "data": {
      "application/vnd.jupyter.widget-view+json": {
       "model_id": "a83ac50115cc4ec7809554ba7c79728a",
       "version_major": 2,
       "version_minor": 0
      },
      "text/plain": [
       "VBox(children=(Tab(children=(Tab(children=(GridBox(children=(VBox(children=(GridspecLayout(children=(HTML(valu…"
      ]
     },
     "metadata": {},
     "output_type": "display_data"
    }
   ],
   "source": [
    "import pandas_profiling\n",
    "\n",
    "profile = pandas_profiling.ProfileReport(df)\n",
    "profile.to_widgets()"
   ]
  },
  {
   "cell_type": "markdown",
   "id": "d7072fd2",
   "metadata": {},
   "source": [
    "Clean the data"
   ]
  },
  {
   "cell_type": "code",
   "execution_count": 9,
   "id": "8968a001",
   "metadata": {},
   "outputs": [],
   "source": [
    "# Drop outliers\n",
    "min_price = 10\n",
    "max_price = 350\n",
    "idx = df['price'].between(min_price, max_price)\n",
    "df = df[idx].copy()\n",
    "# Convert last_review to datetime\n",
    "df['last_review'] = pd.to_datetime(df['last_review'])"
   ]
  },
  {
   "cell_type": "markdown",
   "id": "7d346ebf",
   "metadata": {},
   "source": [
    "Check if all problems have been solved"
   ]
  },
  {
   "cell_type": "code",
   "execution_count": 10,
   "id": "38c80744",
   "metadata": {},
   "outputs": [
    {
     "name": "stdout",
     "output_type": "stream",
     "text": [
      "<class 'pandas.core.frame.DataFrame'>\n",
      "Int64Index: 19001 entries, 0 to 19999\n",
      "Data columns (total 16 columns):\n",
      " #   Column                          Non-Null Count  Dtype         \n",
      "---  ------                          --------------  -----         \n",
      " 0   id                              19001 non-null  int64         \n",
      " 1   name                            18994 non-null  object        \n",
      " 2   host_id                         19001 non-null  int64         \n",
      " 3   host_name                       18993 non-null  object        \n",
      " 4   neighbourhood_group             19001 non-null  object        \n",
      " 5   neighbourhood                   19001 non-null  object        \n",
      " 6   latitude                        19001 non-null  float64       \n",
      " 7   longitude                       19001 non-null  float64       \n",
      " 8   room_type                       19001 non-null  object        \n",
      " 9   price                           19001 non-null  int64         \n",
      " 10  minimum_nights                  19001 non-null  int64         \n",
      " 11  number_of_reviews               19001 non-null  int64         \n",
      " 12  last_review                     15243 non-null  datetime64[ns]\n",
      " 13  reviews_per_month               15243 non-null  float64       \n",
      " 14  calculated_host_listings_count  19001 non-null  int64         \n",
      " 15  availability_365                19001 non-null  int64         \n",
      "dtypes: datetime64[ns](1), float64(3), int64(7), object(5)\n",
      "memory usage: 2.5+ MB\n"
     ]
    }
   ],
   "source": [
    "df.info() "
   ]
  },
  {
   "cell_type": "code",
   "execution_count": 11,
   "id": "dbf50d96",
   "metadata": {},
   "outputs": [
    {
     "data": {
      "text/html": [
       "<br/>Waiting for W&B process to finish, PID 16545<br/>Program ended successfully."
      ],
      "text/plain": [
       "<IPython.core.display.HTML object>"
      ]
     },
     "metadata": {},
     "output_type": "display_data"
    },
    {
     "data": {
      "application/vnd.jupyter.widget-view+json": {
       "model_id": "",
       "version_major": 2,
       "version_minor": 0
      },
      "text/plain": [
       "VBox(children=(Label(value=' 0.23MB of 0.23MB uploaded (0.00MB deduped)\\r'), FloatProgress(value=1.0, max=1.0)…"
      ]
     },
     "metadata": {},
     "output_type": "display_data"
    },
    {
     "data": {
      "text/html": [
       "Find user logs for this run at: <code>/Users/apple/PycharmProjects/nyc_airbnb/src/eda/wandb/run-20210606_223202-8mh5pzhp/logs/debug.log</code>"
      ],
      "text/plain": [
       "<IPython.core.display.HTML object>"
      ]
     },
     "metadata": {},
     "output_type": "display_data"
    },
    {
     "data": {
      "text/html": [
       "Find internal logs for this run at: <code>/Users/apple/PycharmProjects/nyc_airbnb/src/eda/wandb/run-20210606_223202-8mh5pzhp/logs/debug-internal.log</code>"
      ],
      "text/plain": [
       "<IPython.core.display.HTML object>"
      ]
     },
     "metadata": {},
     "output_type": "display_data"
    },
    {
     "data": {
      "text/html": [
       "Synced 7 W&B file(s), 0 media file(s), 7 artifact file(s) and 1 other file(s)"
      ],
      "text/plain": [
       "<IPython.core.display.HTML object>"
      ]
     },
     "metadata": {},
     "output_type": "display_data"
    },
    {
     "data": {
      "text/html": [
       "\n",
       "                    <br/>Synced <strong style=\"color:#cdcd00\">dandy-blaze-10</strong>: <a href=\"https://wandb.ai/oishipo/nyc_airbnb/runs/8mh5pzhp\" target=\"_blank\">https://wandb.ai/oishipo/nyc_airbnb/runs/8mh5pzhp</a><br/>\n",
       "                "
      ],
      "text/plain": [
       "<IPython.core.display.HTML object>"
      ]
     },
     "metadata": {},
     "output_type": "display_data"
    }
   ],
   "source": [
    "run.finish()"
   ]
  },
  {
   "cell_type": "code",
   "execution_count": null,
   "id": "74828da5",
   "metadata": {},
   "outputs": [],
   "source": []
  }
 ],
 "metadata": {
  "kernelspec": {
   "display_name": "Python 3",
   "language": "python",
   "name": "python3"
  },
  "language_info": {
   "codemirror_mode": {
    "name": "ipython",
    "version": 3
   },
   "file_extension": ".py",
   "mimetype": "text/x-python",
   "name": "python",
   "nbconvert_exporter": "python",
   "pygments_lexer": "ipython3",
   "version": "3.9.4"
  }
 },
 "nbformat": 4,
 "nbformat_minor": 5
}
